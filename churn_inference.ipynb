{
  "nbformat": 4,
  "nbformat_minor": 0,
  "metadata": {
    "colab": {
      "provenance": []
    },
    "kernelspec": {
      "name": "python3",
      "display_name": "Python 3"
    },
    "language_info": {
      "name": "python"
    }
  },
  "cells": [
    {
      "cell_type": "code",
      "source": [
        "# Import Library\n",
        "\n",
        "import pandas as pd\n",
        "import numpy as np\n",
        "import pickle\n",
        "import calendar\n",
        "\n",
        "from tensorflow.keras.models import load_model\n",
        "from keras import backend as K"
      ],
      "metadata": {
        "id": "5t2SNPyKTIpe"
      },
      "execution_count": 25,
      "outputs": []
    },
    {
      "cell_type": "code",
      "source": [
        "# Custom Metrics\n",
        "\n",
        "def recall_m(y_true, y_pred):\n",
        "    true_positives = K.sum(K.round(K.clip(y_true * y_pred, 0, 1)))\n",
        "    possible_positives = K.sum(K.round(K.clip(y_true, 0, 1)))\n",
        "    recall = true_positives / (possible_positives + K.epsilon())\n",
        "    return recall\n",
        "\n",
        "def precision_m(y_true, y_pred):\n",
        "    true_positives = K.sum(K.round(K.clip(y_true * y_pred, 0, 1)))\n",
        "    predicted_positives = K.sum(K.round(K.clip(y_pred, 0, 1)))\n",
        "    precision = true_positives / (predicted_positives + K.epsilon())\n",
        "    return precision\n",
        "\n",
        "def f1_m(y_true, y_pred):\n",
        "    precision = precision_m(y_true, y_pred)\n",
        "    recall = recall_m(y_true, y_pred)\n",
        "    return 2*((precision*recall)/(precision+recall+K.epsilon()))"
      ],
      "metadata": {
        "id": "ukgszvZPyNnW"
      },
      "execution_count": 29,
      "outputs": []
    },
    {
      "cell_type": "code",
      "execution_count": 23,
      "metadata": {
        "id": "-9uNvjOIFuI7"
      },
      "outputs": [],
      "source": [
        "# Load the Models\n",
        "\n",
        "with open('final_pipeline.pkl', 'rb') as file_1:\n",
        "  model_pipeline = pickle.load(file_1)\n",
        "\n",
        "# model_ann = load_model('churn_model.h5')\n",
        "model_ann = load_model(\"churn_model.h5\", custom_objects={\"f1_m\": f1_m})\n"
      ]
    },
    {
      "cell_type": "code",
      "source": [
        "# Create New Data\n",
        "\n",
        "data_inf = {\n",
        "    'user_id': '9f420209e7d129f3',\n",
        "    'age': 29,\n",
        "    'gender': 'M',\n",
        "    'region_category': 'Town',\n",
        "    'membership_category': 'Premium Membership',\n",
        "    'joining_date': '2015-03-20',\n",
        "    'joined_through_referral': 'Yes',\n",
        "    'preferred_offer_types': 'Gift Vouchers/Coupons',\n",
        "    'medium_of_operation': 'Smartphone',\n",
        "    'internet_option': 'Wi-Fi',\n",
        "    'last_visit_time': '22:29:49',\n",
        "    'days_since_last_login': 10,\n",
        "    'avg_time_spent': 56.67,\n",
        "    'avg_transaction_value': 38604.69,\n",
        "    'avg_frequency_login_days': 28.0,\n",
        "    'points_in_wallet': 782.49,\n",
        "    'used_special_discount': 'No',\n",
        "    'offer_application_preference': 'Yes',\n",
        "    'past_complaint': 'Yes',\n",
        "    'complaint_status': 'Unsolved',\n",
        "    'feedback': 'Poor Product Quality'\n",
        "}\n",
        "\n",
        "data_inf = pd.DataFrame([data_inf])\n",
        "data_inf"
      ],
      "metadata": {
        "colab": {
          "base_uri": "https://localhost:8080/",
          "height": 209
        },
        "id": "n_mFpO-HF9Ui",
        "outputId": "7ca50bc0-af8f-4911-cd6c-7aae8da7226e"
      },
      "execution_count": 24,
      "outputs": [
        {
          "output_type": "execute_result",
          "data": {
            "text/plain": [
              "            user_id  age gender region_category membership_category  \\\n",
              "0  9f420209e7d129f3   29      M            Town  Premium Membership   \n",
              "\n",
              "  joining_date joined_through_referral  preferred_offer_types  \\\n",
              "0   2015-03-20                     Yes  Gift Vouchers/Coupons   \n",
              "\n",
              "  medium_of_operation internet_option  ... days_since_last_login  \\\n",
              "0          Smartphone           Wi-Fi  ...                    10   \n",
              "\n",
              "   avg_time_spent  avg_transaction_value  avg_frequency_login_days  \\\n",
              "0           56.67               38604.69                      28.0   \n",
              "\n",
              "   points_in_wallet  used_special_discount offer_application_preference  \\\n",
              "0            782.49                     No                          Yes   \n",
              "\n",
              "  past_complaint complaint_status              feedback  \n",
              "0            Yes         Unsolved  Poor Product Quality  \n",
              "\n",
              "[1 rows x 21 columns]"
            ],
            "text/html": [
              "\n",
              "  <div id=\"df-977cb779-619d-42d6-9244-b927ff2b1319\">\n",
              "    <div class=\"colab-df-container\">\n",
              "      <div>\n",
              "<style scoped>\n",
              "    .dataframe tbody tr th:only-of-type {\n",
              "        vertical-align: middle;\n",
              "    }\n",
              "\n",
              "    .dataframe tbody tr th {\n",
              "        vertical-align: top;\n",
              "    }\n",
              "\n",
              "    .dataframe thead th {\n",
              "        text-align: right;\n",
              "    }\n",
              "</style>\n",
              "<table border=\"1\" class=\"dataframe\">\n",
              "  <thead>\n",
              "    <tr style=\"text-align: right;\">\n",
              "      <th></th>\n",
              "      <th>user_id</th>\n",
              "      <th>age</th>\n",
              "      <th>gender</th>\n",
              "      <th>region_category</th>\n",
              "      <th>membership_category</th>\n",
              "      <th>joining_date</th>\n",
              "      <th>joined_through_referral</th>\n",
              "      <th>preferred_offer_types</th>\n",
              "      <th>medium_of_operation</th>\n",
              "      <th>internet_option</th>\n",
              "      <th>...</th>\n",
              "      <th>days_since_last_login</th>\n",
              "      <th>avg_time_spent</th>\n",
              "      <th>avg_transaction_value</th>\n",
              "      <th>avg_frequency_login_days</th>\n",
              "      <th>points_in_wallet</th>\n",
              "      <th>used_special_discount</th>\n",
              "      <th>offer_application_preference</th>\n",
              "      <th>past_complaint</th>\n",
              "      <th>complaint_status</th>\n",
              "      <th>feedback</th>\n",
              "    </tr>\n",
              "  </thead>\n",
              "  <tbody>\n",
              "    <tr>\n",
              "      <th>0</th>\n",
              "      <td>9f420209e7d129f3</td>\n",
              "      <td>29</td>\n",
              "      <td>M</td>\n",
              "      <td>Town</td>\n",
              "      <td>Premium Membership</td>\n",
              "      <td>2015-03-20</td>\n",
              "      <td>Yes</td>\n",
              "      <td>Gift Vouchers/Coupons</td>\n",
              "      <td>Smartphone</td>\n",
              "      <td>Wi-Fi</td>\n",
              "      <td>...</td>\n",
              "      <td>10</td>\n",
              "      <td>56.67</td>\n",
              "      <td>38604.69</td>\n",
              "      <td>28.0</td>\n",
              "      <td>782.49</td>\n",
              "      <td>No</td>\n",
              "      <td>Yes</td>\n",
              "      <td>Yes</td>\n",
              "      <td>Unsolved</td>\n",
              "      <td>Poor Product Quality</td>\n",
              "    </tr>\n",
              "  </tbody>\n",
              "</table>\n",
              "<p>1 rows × 21 columns</p>\n",
              "</div>\n",
              "      <button class=\"colab-df-convert\" onclick=\"convertToInteractive('df-977cb779-619d-42d6-9244-b927ff2b1319')\"\n",
              "              title=\"Convert this dataframe to an interactive table.\"\n",
              "              style=\"display:none;\">\n",
              "        \n",
              "  <svg xmlns=\"http://www.w3.org/2000/svg\" height=\"24px\"viewBox=\"0 0 24 24\"\n",
              "       width=\"24px\">\n",
              "    <path d=\"M0 0h24v24H0V0z\" fill=\"none\"/>\n",
              "    <path d=\"M18.56 5.44l.94 2.06.94-2.06 2.06-.94-2.06-.94-.94-2.06-.94 2.06-2.06.94zm-11 1L8.5 8.5l.94-2.06 2.06-.94-2.06-.94L8.5 2.5l-.94 2.06-2.06.94zm10 10l.94 2.06.94-2.06 2.06-.94-2.06-.94-.94-2.06-.94 2.06-2.06.94z\"/><path d=\"M17.41 7.96l-1.37-1.37c-.4-.4-.92-.59-1.43-.59-.52 0-1.04.2-1.43.59L10.3 9.45l-7.72 7.72c-.78.78-.78 2.05 0 2.83L4 21.41c.39.39.9.59 1.41.59.51 0 1.02-.2 1.41-.59l7.78-7.78 2.81-2.81c.8-.78.8-2.07 0-2.86zM5.41 20L4 18.59l7.72-7.72 1.47 1.35L5.41 20z\"/>\n",
              "  </svg>\n",
              "      </button>\n",
              "      \n",
              "  <style>\n",
              "    .colab-df-container {\n",
              "      display:flex;\n",
              "      flex-wrap:wrap;\n",
              "      gap: 12px;\n",
              "    }\n",
              "\n",
              "    .colab-df-convert {\n",
              "      background-color: #E8F0FE;\n",
              "      border: none;\n",
              "      border-radius: 50%;\n",
              "      cursor: pointer;\n",
              "      display: none;\n",
              "      fill: #1967D2;\n",
              "      height: 32px;\n",
              "      padding: 0 0 0 0;\n",
              "      width: 32px;\n",
              "    }\n",
              "\n",
              "    .colab-df-convert:hover {\n",
              "      background-color: #E2EBFA;\n",
              "      box-shadow: 0px 1px 2px rgba(60, 64, 67, 0.3), 0px 1px 3px 1px rgba(60, 64, 67, 0.15);\n",
              "      fill: #174EA6;\n",
              "    }\n",
              "\n",
              "    [theme=dark] .colab-df-convert {\n",
              "      background-color: #3B4455;\n",
              "      fill: #D2E3FC;\n",
              "    }\n",
              "\n",
              "    [theme=dark] .colab-df-convert:hover {\n",
              "      background-color: #434B5C;\n",
              "      box-shadow: 0px 1px 3px 1px rgba(0, 0, 0, 0.15);\n",
              "      filter: drop-shadow(0px 1px 2px rgba(0, 0, 0, 0.3));\n",
              "      fill: #FFFFFF;\n",
              "    }\n",
              "  </style>\n",
              "\n",
              "      <script>\n",
              "        const buttonEl =\n",
              "          document.querySelector('#df-977cb779-619d-42d6-9244-b927ff2b1319 button.colab-df-convert');\n",
              "        buttonEl.style.display =\n",
              "          google.colab.kernel.accessAllowed ? 'block' : 'none';\n",
              "\n",
              "        async function convertToInteractive(key) {\n",
              "          const element = document.querySelector('#df-977cb779-619d-42d6-9244-b927ff2b1319');\n",
              "          const dataTable =\n",
              "            await google.colab.kernel.invokeFunction('convertToInteractive',\n",
              "                                                     [key], {});\n",
              "          if (!dataTable) return;\n",
              "\n",
              "          const docLinkHtml = 'Like what you see? Visit the ' +\n",
              "            '<a target=\"_blank\" href=https://colab.research.google.com/notebooks/data_table.ipynb>data table notebook</a>'\n",
              "            + ' to learn more about interactive tables.';\n",
              "          element.innerHTML = '';\n",
              "          dataTable['output_type'] = 'display_data';\n",
              "          await google.colab.output.renderOutput(dataTable, element);\n",
              "          const docLink = document.createElement('div');\n",
              "          docLink.innerHTML = docLinkHtml;\n",
              "          element.appendChild(docLink);\n",
              "        }\n",
              "      </script>\n",
              "    </div>\n",
              "  </div>\n",
              "  "
            ]
          },
          "metadata": {},
          "execution_count": 24
        }
      ]
    },
    {
      "cell_type": "code",
      "source": [
        "# Preprocessing\n",
        "\n",
        "data_inf[\"joining_date\"] = pd.to_datetime(data_inf[\"joining_date\"])\n",
        "data_inf[\"last_visit_time\"] = pd.to_datetime(data_inf[\"last_visit_time\"])\n",
        "\n",
        "data_inf['last_visit_time'] = pd.to_datetime(data_inf['last_visit_time'], format='%H:%M').dt.hour\n",
        "data_inf['joining_year'] = pd.DatetimeIndex(data_inf['joining_date']).year\n",
        "data_inf['joining_month'] = pd.DatetimeIndex(data_inf['joining_date']).month\n",
        "\n",
        "data_inf['joining_month'] = data_inf['joining_month'].apply(lambda x: calendar.month_abbr[x])\n",
        "\n",
        "data_inf['joining_year'] = data_inf['joining_year'].astype(str)\n",
        "\n",
        "data_inf.drop(['user_id'], axis=1, inplace=True)\n",
        "data_inf.drop(['joining_date'], axis=1, inplace=True)\n",
        "data_inf.rename(columns = {'churn_risk_score':'churn'}, inplace = True)"
      ],
      "metadata": {
        "id": "fyWQz90m0tYG"
      },
      "execution_count": 26,
      "outputs": []
    },
    {
      "cell_type": "code",
      "source": [
        "# Transform Inference-Set\n",
        "\n",
        "data_inf_transform = model_pipeline.transform(data_inf)\n",
        "data_inf_transform"
      ],
      "metadata": {
        "id": "HTFDDSfFF_Mh",
        "colab": {
          "base_uri": "https://localhost:8080/"
        },
        "outputId": "1504ecda-95e8-4c74-b2d2-ca6a98360d66"
      },
      "execution_count": 27,
      "outputs": [
        {
          "output_type": "execute_result",
          "data": {
            "text/plain": [
              "array([[-0.5099649 ,  1.5090489 , -0.27901747, -0.80009093,  0.52291084,\n",
              "         1.43344791,  0.71661228,  0.        ,  1.        ,  0.        ,\n",
              "         1.        ,  0.        ,  0.        ,  0.        ,  0.        ,\n",
              "         0.        ,  1.        ,  0.        ,  0.        ,  1.        ,\n",
              "         0.        ,  1.        ,  0.        ,  0.        ,  0.        ,\n",
              "         1.        ,  0.        ,  0.        ,  1.        ,  1.        ,\n",
              "         0.        ,  0.        ,  1.        ,  0.        ,  1.        ,\n",
              "         0.        ,  0.        ,  0.        ,  0.        ,  1.        ,\n",
              "         0.        ,  0.        ,  1.        ,  0.        ,  0.        ,\n",
              "         0.        ,  0.        ,  0.        ,  0.        ,  1.        ,\n",
              "         0.        ,  0.        ,  0.        ,  0.        ,  0.        ,\n",
              "         0.        ,  0.        ,  0.        ,  0.        ,  1.        ,\n",
              "         0.        ,  0.        ,  0.        ,  0.        ]])"
            ]
          },
          "metadata": {},
          "execution_count": 27
        }
      ]
    },
    {
      "cell_type": "code",
      "source": [
        "# Predict using Neural Network\n",
        "\n",
        "y_pred_inf = model_ann.predict(data_inf_transform)\n",
        "y_pred_inf = np.where(y_pred_inf >= 0.5, 1, 0)\n",
        "y_pred_inf"
      ],
      "metadata": {
        "id": "GfAKL7eBGACm",
        "colab": {
          "base_uri": "https://localhost:8080/"
        },
        "outputId": "cbae8ae9-da50-48ee-baf8-5e7e6719a7f3"
      },
      "execution_count": 28,
      "outputs": [
        {
          "output_type": "stream",
          "name": "stdout",
          "text": [
            "1/1 [==============================] - 0s 247ms/step\n"
          ]
        },
        {
          "output_type": "execute_result",
          "data": {
            "text/plain": [
              "array([[0]])"
            ]
          },
          "metadata": {},
          "execution_count": 28
        }
      ]
    },
    {
      "cell_type": "markdown",
      "source": [
        "Dari data baru yang telah dibuat, customer tersebut terprediksi tidak churn."
      ],
      "metadata": {
        "id": "VEMhk_cJHfaC"
      }
    }
  ]
}